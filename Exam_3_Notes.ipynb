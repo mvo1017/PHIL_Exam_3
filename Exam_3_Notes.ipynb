{
 "cells": [
  {
   "cell_type": "markdown",
   "metadata": {},
   "source": [
    "# Aristotle Metaphysics"
   ]
  },
  {
   "cell_type": "markdown",
   "metadata": {},
   "source": [
    "## Four Causes"
   ]
  },
  {
   "cell_type": "markdown",
   "metadata": {},
   "source": [
    "#### To fully understand anything, we must know these"
   ]
  },
  {
   "cell_type": "markdown",
   "metadata": {},
   "source": [
    "1. Material Cause: what something is made of (the bronze of the statue)\n",
    "2. Formal Cause: the form or essence of the thing (the shape of the statue)\n",
    "3. Efficient Cause: the source of change or the agent that brings something into being (the sculptor who made the statue)\n",
    "4. Final Cause: The purpose or end for which something exists (the statue's purpose to honor a person or god)"
   ]
  },
  {
   "cell_type": "markdown",
   "metadata": {},
   "source": []
  }
 ],
 "metadata": {
  "language_info": {
   "name": "python"
  }
 },
 "nbformat": 4,
 "nbformat_minor": 2
}
